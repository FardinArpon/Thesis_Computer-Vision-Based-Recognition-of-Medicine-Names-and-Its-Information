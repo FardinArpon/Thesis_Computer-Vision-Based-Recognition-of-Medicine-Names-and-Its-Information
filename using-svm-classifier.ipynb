{
 "cells": [
  {
   "cell_type": "code",
   "execution_count": 2,
   "id": "29ace24f",
   "metadata": {},
   "outputs": [
    {
     "name": "stdout",
     "output_type": "stream",
     "text": [
      "Napa\n",
      "Napa\n"
     ]
    }
   ],
   "source": [
    "import pandas as pd\n",
    "from sklearn.model_selection import train_test_split\n",
    "from sklearn.preprocessing import LabelEncoder\n",
    "from tensorflow.keras.models import Sequential\n",
    "from tensorflow.keras.layers import Embedding, Conv1D, GlobalMaxPooling1D, Dense\n",
    "from tensorflow.keras.preprocessing.text import Tokenizer\n",
    "from tensorflow.keras.preprocessing.sequence import pad_sequences\n",
    "from PIL import Image\n",
    "import pytesseract\n",
    "from googletrans import Translator\n",
    "from langdetect import detect\n",
    "import re\n",
    "\n",
    "def remove_special_characters(text):\n",
    "    # Define the pattern for special characters\n",
    "    pattern = r'[^a-zA-Z0-9\\s]'\n",
    "    \n",
    "    # Remove special characters using regex\n",
    "    text = re.sub(pattern, '', text)\n",
    "    \n",
    "    return text\n",
    "\n",
    "def get_first_word(text):\n",
    "    # Split the text into words\n",
    "    words = text.split()\n",
    "    \n",
    "    # Retrieve the first word\n",
    "    if len(words) > 0:\n",
    "        first_word = words[0]\n",
    "        return first_word\n",
    "    \n",
    "    # Return None if the text is empty or contains no words\n",
    "    return None\n",
    "\n",
    "\n",
    "input_string= 'C:/Users/user/Desktop/jupyter notebook/napa_pac.png'\n",
    "dataset_csv = 'C:/Users/user/Desktop/jupyter notebook/medicine.csv'\n",
    "dataset_image = 'C:/Users/user/Desktop/jupyter notebook/image_dataset'\n",
    "\n",
    "image = Image.open(input_string)\n",
    "\n",
    "textOfImage = pytesseract.image_to_string(image, lang='eng') # for all latin languages\n",
    "# textOfImage = pytesseract.image_to_string(image, lang='chi_sim') #for non-latin chinease languages \n",
    "clean_text = remove_special_characters(textOfImage)\n",
    "print(get_first_word(clean_text))\n",
    "text_after_word= get_first_word(clean_text)\n",
    "# english_string = convert_to_english(textOfImage)\n",
    "print(text_after_word)"
   ]
  },
  {
   "cell_type": "code",
   "execution_count": 3,
   "id": "c195dc06",
   "metadata": {},
   "outputs": [
    {
     "name": "stdout",
     "output_type": "stream",
     "text": [
      "Accuracy: 0.98\n"
     ]
    }
   ],
   "source": [
    "import pandas as pd\n",
    "from sklearn.model_selection import train_test_split\n",
    "from sklearn.feature_extraction.text import CountVectorizer\n",
    "from sklearn.svm import SVC\n",
    "from sklearn.metrics import accuracy_score\n",
    "\n",
    "# Read the dataset\n",
    "dataset_path = dataset_csv  # Replace with the actual path to your dataset\n",
    "data = pd.read_csv(dataset_path)\n",
    "\n",
    "# Drop rows with missing values\n",
    "data = data.dropna()\n",
    "\n",
    "# Separate X and y\n",
    "X = data.drop(columns=['brand name'])  # Features\n",
    "y = data['generic']  # Target variable\n",
    "\n",
    "# Convert categorical features using one-hot encoding\n",
    "X_encoded = pd.get_dummies(X, columns=['type', 'slug', 'dosage form', 'generic', 'strength'])\n",
    "\n",
    "# Split the dataset into training and testing sets\n",
    "X_train, X_test, y_train, y_test = train_test_split(X_encoded, y, test_size=0.2, random_state=42)\n",
    "\n",
    "# Initialize the CountVectorizer for text data\n",
    "vectorizer = CountVectorizer()\n",
    "\n",
    "# Transform text data into numerical features\n",
    "X_train_text = vectorizer.fit_transform(y_train)\n",
    "X_test_text = vectorizer.transform(y_test)\n",
    "\n",
    "# Initialize the Support Vector Machine (SVM) Classifier\n",
    "svm_classifier = SVC()\n",
    "\n",
    "# Train the classifier on the training data\n",
    "svm_classifier.fit(X_train_text, y_train)\n",
    "\n",
    "# Predict the brand names on the testing data\n",
    "y_pred = svm_classifier.predict(X_test_text)\n",
    "\n",
    "# Calculate accuracy\n",
    "accuracy = accuracy_score(y_test, y_pred)\n",
    "formatted_accuracy = \"{:.2f}\".format(accuracy)  # Format accuracy to two decimal places\n",
    "print(\"Accuracy:\", formatted_accuracy)\n"
   ]
  },
  {
   "cell_type": "code",
   "execution_count": null,
   "id": "bf043f4b",
   "metadata": {},
   "outputs": [],
   "source": []
  }
 ],
 "metadata": {
  "kernelspec": {
   "display_name": "Python 3 (ipykernel)",
   "language": "python",
   "name": "python3"
  },
  "language_info": {
   "codemirror_mode": {
    "name": "ipython",
    "version": 3
   },
   "file_extension": ".py",
   "mimetype": "text/x-python",
   "name": "python",
   "nbconvert_exporter": "python",
   "pygments_lexer": "ipython3",
   "version": "3.11.4"
  }
 },
 "nbformat": 4,
 "nbformat_minor": 5
}
