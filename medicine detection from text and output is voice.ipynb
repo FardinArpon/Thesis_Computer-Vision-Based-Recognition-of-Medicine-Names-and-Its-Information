{
 "cells": [
  {
   "cell_type": "code",
   "execution_count": 3,
   "id": "61e08db3",
   "metadata": {},
   "outputs": [],
   "source": [
    "from PIL import Image\n",
    "import pytesseract"
   ]
  },
  {
   "cell_type": "code",
   "execution_count": 66,
   "id": "877922ac",
   "metadata": {},
   "outputs": [],
   "source": [
    "image = Image.open('C:/Users/user/Desktop/jupyter notebook/medicine_name.jpg')"
   ]
  },
  {
   "cell_type": "code",
   "execution_count": 67,
   "id": "2e5b8c65",
   "metadata": {},
   "outputs": [],
   "source": [
    "textOfImage = pytesseract.image_to_string(image, lang='eng')"
   ]
  },
  {
   "cell_type": "code",
   "execution_count": 68,
   "id": "9245a202",
   "metadata": {},
   "outputs": [
    {
     "name": "stdout",
     "output_type": "stream",
     "text": [
      "A-Cal DX\n",
      "\n"
     ]
    }
   ],
   "source": [
    "print(textOfImage)"
   ]
  },
  {
   "cell_type": "code",
   "execution_count": 7,
   "id": "f7f407bd",
   "metadata": {},
   "outputs": [],
   "source": [
    "import pandas as pd"
   ]
  },
  {
   "cell_type": "code",
   "execution_count": 47,
   "id": "ddb9db5b",
   "metadata": {},
   "outputs": [],
   "source": [
    "dataset_path = 'C:/Users/user/Desktop/jupyter notebook/medicine.csv'\n",
    "# data = pd.read_csv(dataset_path, usecols=['brand name', 'type', 'slug', 'dosage form', 'generic', 'strength'], dtype={'brand name': str, 'type': str, 'slug': str, 'dosage form': str, 'generic': str, 'strength': str})\n",
    "data = pd.read_csv(dataset_path)\n",
    "data = data.dropna()\n"
   ]
  },
  {
   "cell_type": "code",
   "execution_count": 34,
   "id": "5b2052a3",
   "metadata": {},
   "outputs": [],
   "source": [
    "from sklearn.model_selection import train_test_split\n",
    "from sklearn.preprocessing import LabelEncoder"
   ]
  },
  {
   "cell_type": "code",
   "execution_count": 56,
   "id": "0f2e830a",
   "metadata": {},
   "outputs": [],
   "source": [
    "X= data['brand name']  # Input feature: Medicine Name\n",
    "y = data[['type', 'slug', 'dosage form', 'generic', 'strength']]  # Target variables: Purpose columns\n",
    "# y = data[['type', 'slug', 'dosage form', 'generic', 'strength']].astype(int)\n",
    "# target_columns = ['type', 'slug', 'dosage form', 'generic', 'strength']\n",
    "# y = pd.get_dummies(data[target_columns])\n",
    "X_train, X_test, y_train, y_test = train_test_split(X, y, test_size=0.2, random_state=42)"
   ]
  },
  {
   "cell_type": "code",
   "execution_count": 13,
   "id": "68145728",
   "metadata": {},
   "outputs": [],
   "source": [
    "from sklearn.feature_extraction.text import TfidfVectorizer\n",
    "from sklearn.ensemble import RandomForestClassifier"
   ]
  },
  {
   "cell_type": "code",
   "execution_count": 57,
   "id": "8c7d67df",
   "metadata": {},
   "outputs": [],
   "source": [
    "vectorizer = TfidfVectorizer()\n",
    "X_train_vectorized = vectorizer.fit_transform(X_train)\n",
    "X_test_vectorized = vectorizer.transform(X_test)"
   ]
  },
  {
   "cell_type": "code",
   "execution_count": 15,
   "id": "5dd44f70",
   "metadata": {},
   "outputs": [],
   "source": [
    "import scipy.sparse"
   ]
  },
  {
   "cell_type": "code",
   "execution_count": 58,
   "id": "54949775",
   "metadata": {},
   "outputs": [],
   "source": [
    "# Convert the vectorized data to a sparse matrix\n",
    "X_train_vectorized = scipy.sparse.csr_matrix(X_train_vectorized)\n",
    "X_test_vectorized = scipy.sparse.csr_matrix(X_test_vectorized)"
   ]
  },
  {
   "cell_type": "code",
   "execution_count": 1,
   "id": "5bcc4391",
   "metadata": {},
   "outputs": [],
   "source": [
    "from sklearn.multioutput import ClassifierChain\n",
    "from sklearn.naive_bayes import MultinomialNB"
   ]
  },
  {
   "cell_type": "code",
   "execution_count": 59,
   "id": "65342b67",
   "metadata": {},
   "outputs": [
    {
     "data": {
      "text/html": [
       "<style>#sk-container-id-4 {color: black;background-color: white;}#sk-container-id-4 pre{padding: 0;}#sk-container-id-4 div.sk-toggleable {background-color: white;}#sk-container-id-4 label.sk-toggleable__label {cursor: pointer;display: block;width: 100%;margin-bottom: 0;padding: 0.3em;box-sizing: border-box;text-align: center;}#sk-container-id-4 label.sk-toggleable__label-arrow:before {content: \"▸\";float: left;margin-right: 0.25em;color: #696969;}#sk-container-id-4 label.sk-toggleable__label-arrow:hover:before {color: black;}#sk-container-id-4 div.sk-estimator:hover label.sk-toggleable__label-arrow:before {color: black;}#sk-container-id-4 div.sk-toggleable__content {max-height: 0;max-width: 0;overflow: hidden;text-align: left;background-color: #f0f8ff;}#sk-container-id-4 div.sk-toggleable__content pre {margin: 0.2em;color: black;border-radius: 0.25em;background-color: #f0f8ff;}#sk-container-id-4 input.sk-toggleable__control:checked~div.sk-toggleable__content {max-height: 200px;max-width: 100%;overflow: auto;}#sk-container-id-4 input.sk-toggleable__control:checked~label.sk-toggleable__label-arrow:before {content: \"▾\";}#sk-container-id-4 div.sk-estimator input.sk-toggleable__control:checked~label.sk-toggleable__label {background-color: #d4ebff;}#sk-container-id-4 div.sk-label input.sk-toggleable__control:checked~label.sk-toggleable__label {background-color: #d4ebff;}#sk-container-id-4 input.sk-hidden--visually {border: 0;clip: rect(1px 1px 1px 1px);clip: rect(1px, 1px, 1px, 1px);height: 1px;margin: -1px;overflow: hidden;padding: 0;position: absolute;width: 1px;}#sk-container-id-4 div.sk-estimator {font-family: monospace;background-color: #f0f8ff;border: 1px dotted black;border-radius: 0.25em;box-sizing: border-box;margin-bottom: 0.5em;}#sk-container-id-4 div.sk-estimator:hover {background-color: #d4ebff;}#sk-container-id-4 div.sk-parallel-item::after {content: \"\";width: 100%;border-bottom: 1px solid gray;flex-grow: 1;}#sk-container-id-4 div.sk-label:hover label.sk-toggleable__label {background-color: #d4ebff;}#sk-container-id-4 div.sk-serial::before {content: \"\";position: absolute;border-left: 1px solid gray;box-sizing: border-box;top: 0;bottom: 0;left: 50%;z-index: 0;}#sk-container-id-4 div.sk-serial {display: flex;flex-direction: column;align-items: center;background-color: white;padding-right: 0.2em;padding-left: 0.2em;position: relative;}#sk-container-id-4 div.sk-item {position: relative;z-index: 1;}#sk-container-id-4 div.sk-parallel {display: flex;align-items: stretch;justify-content: center;background-color: white;position: relative;}#sk-container-id-4 div.sk-item::before, #sk-container-id-4 div.sk-parallel-item::before {content: \"\";position: absolute;border-left: 1px solid gray;box-sizing: border-box;top: 0;bottom: 0;left: 50%;z-index: -1;}#sk-container-id-4 div.sk-parallel-item {display: flex;flex-direction: column;z-index: 1;position: relative;background-color: white;}#sk-container-id-4 div.sk-parallel-item:first-child::after {align-self: flex-end;width: 50%;}#sk-container-id-4 div.sk-parallel-item:last-child::after {align-self: flex-start;width: 50%;}#sk-container-id-4 div.sk-parallel-item:only-child::after {width: 0;}#sk-container-id-4 div.sk-dashed-wrapped {border: 1px dashed gray;margin: 0 0.4em 0.5em 0.4em;box-sizing: border-box;padding-bottom: 0.4em;background-color: white;}#sk-container-id-4 div.sk-label label {font-family: monospace;font-weight: bold;display: inline-block;line-height: 1.2em;}#sk-container-id-4 div.sk-label-container {text-align: center;}#sk-container-id-4 div.sk-container {/* jupyter's `normalize.less` sets `[hidden] { display: none; }` but bootstrap.min.css set `[hidden] { display: none !important; }` so we also need the `!important` here to be able to override the default hidden behavior on the sphinx rendered scikit-learn.org. See: https://github.com/scikit-learn/scikit-learn/issues/21755 */display: inline-block !important;position: relative;}#sk-container-id-4 div.sk-text-repr-fallback {display: none;}</style><div id=\"sk-container-id-4\" class=\"sk-top-container\"><div class=\"sk-text-repr-fallback\"><pre>RandomForestClassifier(max_depth=10)</pre><b>In a Jupyter environment, please rerun this cell to show the HTML representation or trust the notebook. <br />On GitHub, the HTML representation is unable to render, please try loading this page with nbviewer.org.</b></div><div class=\"sk-container\" hidden><div class=\"sk-item\"><div class=\"sk-estimator sk-toggleable\"><input class=\"sk-toggleable__control sk-hidden--visually\" id=\"sk-estimator-id-4\" type=\"checkbox\" checked><label for=\"sk-estimator-id-4\" class=\"sk-toggleable__label sk-toggleable__label-arrow\">RandomForestClassifier</label><div class=\"sk-toggleable__content\"><pre>RandomForestClassifier(max_depth=10)</pre></div></div></div></div></div>"
      ],
      "text/plain": [
       "RandomForestClassifier(max_depth=10)"
      ]
     },
     "execution_count": 59,
     "metadata": {},
     "output_type": "execute_result"
    }
   ],
   "source": [
    "# Train the Random Forest model with optimized memory usage\n",
    "model = RandomForestClassifier(n_estimators=100, max_depth=10)\n",
    "model.fit(X_train_vectorized, y_train)"
   ]
  },
  {
   "cell_type": "code",
   "execution_count": 69,
   "id": "68be68bc",
   "metadata": {},
   "outputs": [],
   "source": [
    "medicine_name = textOfImage\n",
    "medicine_name_vectorized = vectorizer.transform([medicine_name])\n",
    "medicine_name_vectorized = scipy.sparse.csr_matrix(medicine_name_vectorized)\n",
    "predicted_purposes = model.predict(medicine_name_vectorized)"
   ]
  },
  {
   "cell_type": "code",
   "execution_count": 70,
   "id": "bee0b688",
   "metadata": {},
   "outputs": [
    {
     "name": "stdout",
     "output_type": "stream",
     "text": [
      "A-Cal DX\n",
      "\n"
     ]
    }
   ],
   "source": [
    "print(textOfImage)"
   ]
  },
  {
   "cell_type": "code",
   "execution_count": null,
   "id": "5b1ecb21",
   "metadata": {},
   "outputs": [],
   "source": []
  },
  {
   "cell_type": "code",
   "execution_count": 42,
   "id": "02b1f7b7",
   "metadata": {},
   "outputs": [],
   "source": [
    "import pyttsx3"
   ]
  },
  {
   "cell_type": "code",
   "execution_count": 71,
   "id": "fb0fd57c",
   "metadata": {},
   "outputs": [],
   "source": [
    "engine = pyttsx3.init()"
   ]
  },
  {
   "cell_type": "code",
   "execution_count": 72,
   "id": "74183e33",
   "metadata": {},
   "outputs": [],
   "source": [
    "engine.setProperty('rate', 150)"
   ]
  },
  {
   "cell_type": "code",
   "execution_count": 73,
   "id": "e42a4aeb",
   "metadata": {},
   "outputs": [
    {
     "name": "stdout",
     "output_type": "stream",
     "text": [
      "Predicted Purpose type: allopathic\n",
      "Predicted Purpose slug: a-cal-dxtablet500-mg400-iu\n",
      "Predicted Purpose dosage form: Tablet\n",
      "Predicted Purpose generic: Calcium Carbonate [Elemental source] + Vitamin D3\n",
      "Predicted Purpose strength: 500 mg\n"
     ]
    }
   ],
   "source": [
    "# Output the predictions\n",
    "for column, purpose in zip(y.columns, predicted_purposes[0]):\n",
    "        text =f'the {column} is {purpose}' \n",
    "        # Use the engine to speak the text\n",
    "        engine.say(text)\n",
    "        engine.runAndWait()\n",
    "        print(f'Predicted Purpose {column}: {purpose}')\n",
    "    "
   ]
  },
  {
   "cell_type": "code",
   "execution_count": null,
   "id": "88a00944",
   "metadata": {},
   "outputs": [],
   "source": []
  }
 ],
 "metadata": {
  "kernelspec": {
   "display_name": "Python 3 (ipykernel)",
   "language": "python",
   "name": "python3"
  },
  "language_info": {
   "codemirror_mode": {
    "name": "ipython",
    "version": 3
   },
   "file_extension": ".py",
   "mimetype": "text/x-python",
   "name": "python",
   "nbconvert_exporter": "python",
   "pygments_lexer": "ipython3",
   "version": "3.11.4"
  }
 },
 "nbformat": 4,
 "nbformat_minor": 5
}
