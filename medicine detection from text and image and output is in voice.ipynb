{
 "cells": [
  {
   "cell_type": "code",
   "execution_count": 35,
   "id": "61e08db3",
   "metadata": {},
   "outputs": [],
   "source": [
    "import pandas as pd\n",
    "from sklearn.model_selection import train_test_split\n",
    "from sklearn.preprocessing import LabelEncoder\n",
    "from tensorflow.keras.models import Sequential\n",
    "from tensorflow.keras.layers import Embedding, Conv1D, GlobalMaxPooling1D, Dense\n",
    "from tensorflow.keras.preprocessing.text import Tokenizer\n",
    "from tensorflow.keras.preprocessing.sequence import pad_sequences\n",
    "from PIL import Image\n",
    "import pytesseract\n",
    "pytesseract.pytesseract.tesseract_cmd ='C:/Program Files/Tesseract-OCR/tesseract.exe'\n",
    "from googletrans import Translator\n",
    "from langdetect import detect\n",
    "import re"
   ]
  },
  {
   "cell_type": "code",
   "execution_count": 36,
   "id": "a385474c",
   "metadata": {},
   "outputs": [],
   "source": [
    "input_string= 'D:/Thesis-20230616T142242Z-001/Thesis/Pic/10.jpg'\n",
    "dataset_csv = 'D:/Thesis-20230616T142242Z-001/Thesis/medicine..csv'\n",
    "dataset_image = 'D:/Thesis-20230616T142242Z-001/Thesis/image_dataset'"
   ]
  },
  {
   "cell_type": "code",
   "execution_count": 37,
   "id": "877922ac",
   "metadata": {},
   "outputs": [],
   "source": [
    "image = Image.open(input_string)"
   ]
  },
  {
   "cell_type": "code",
   "execution_count": 34,
   "id": "2e5b8c65",
   "metadata": {},
   "outputs": [
    {
     "ename": "NameError",
     "evalue": "name 'remove_special_characters' is not defined",
     "output_type": "error",
     "traceback": [
      "\u001b[1;31m---------------------------------------------------------------------------\u001b[0m",
      "\u001b[1;31mNameError\u001b[0m                                 Traceback (most recent call last)",
      "Cell \u001b[1;32mIn[34], line 3\u001b[0m\n\u001b[0;32m      1\u001b[0m textOfImage \u001b[38;5;241m=\u001b[39m pytesseract\u001b[38;5;241m.\u001b[39mimage_to_string(image, lang\u001b[38;5;241m=\u001b[39m\u001b[38;5;124m'\u001b[39m\u001b[38;5;124meng\u001b[39m\u001b[38;5;124m'\u001b[39m) \u001b[38;5;66;03m# for all latin languages\u001b[39;00m\n\u001b[0;32m      2\u001b[0m \u001b[38;5;66;03m# textOfImage = pytesseract.image_to_string(image, lang='chi_sim') #for non-latin chinease languages \u001b[39;00m\n\u001b[1;32m----> 3\u001b[0m clean_text \u001b[38;5;241m=\u001b[39m \u001b[43mremove_special_characters\u001b[49m(textOfImage)\n\u001b[0;32m      4\u001b[0m \u001b[38;5;28mprint\u001b[39m(get_first_word(clean_text))\n\u001b[0;32m      5\u001b[0m text_after_word\u001b[38;5;241m=\u001b[39m get_first_word(clean_text)\n",
      "\u001b[1;31mNameError\u001b[0m: name 'remove_special_characters' is not defined"
     ]
    }
   ],
   "source": [
    "textOfImage = pytesseract.image_to_string(image, lang='eng') # for all latin languages\n",
    "# textOfImage = pytesseract.image_to_string(image, lang='chi_sim') #for non-latin chinease languages \n",
    "clean_text = remove_special_characters(textOfImage)\n",
    "print(get_first_word(clean_text))\n",
    "text_after_word= get_first_word(clean_text)\n",
    "# english_string = convert_to_english(textOfImage)\n",
    "print(text_after_word)\n"
   ]
  },
  {
   "cell_type": "code",
   "execution_count": 29,
   "id": "9245a202",
   "metadata": {},
   "outputs": [
    {
     "name": "stdout",
     "output_type": "stream",
     "text": [
      "Sedno”\n",
      "\n",
      "‘Dettocatadine\n",
      "\n"
     ]
    }
   ],
   "source": [
    "print(textOfImage)"
   ]
  },
  {
   "cell_type": "code",
   "execution_count": 52,
   "id": "c5f0de1f",
   "metadata": {},
   "outputs": [
    {
     "name": "stdout",
     "output_type": "stream",
     "text": [
      "Text after the word: A-Cal DX\n",
      "\n"
     ]
    }
   ],
   "source": [
    "flagForText = 0\n",
    "target_word = 'Name: '\n",
    "if target_word in textOfImage:\n",
    "    # Find the index of the target word\n",
    "    index = textOfImage.index(target_word)\n",
    "    flagForText = 1;\n",
    "    # Print everything after the target word\n",
    "    text_after_word = textOfImage[index + len(target_word):]\n",
    "    print(\"Text after the word:\", text_after_word)\n",
    "else:\n",
    "    print(\"Word not found.\")"
   ]
  },
  {
   "cell_type": "code",
   "execution_count": 55,
   "id": "4f592350",
   "metadata": {},
   "outputs": [
    {
     "name": "stdout",
     "output_type": "stream",
     "text": [
      "A-Cal DX\n",
      "\n"
     ]
    }
   ],
   "source": [
    "print(text_after_word)"
   ]
  },
  {
   "cell_type": "code",
   "execution_count": null,
   "id": "d6e5cbcf",
   "metadata": {},
   "outputs": [],
   "source": []
  },
  {
   "cell_type": "code",
   "execution_count": 56,
   "id": "6bbdafda",
   "metadata": {},
   "outputs": [
    {
     "name": "stdout",
     "output_type": "stream",
     "text": [
      "Predicted Purpose type: allopathic\n",
      "Predicted Purpose slug: a-cal-dxtablet500-mg400-iu\n",
      "Predicted Purpose dosage form: Tablet\n",
      "Predicted Purpose generic: Calcium Carbonate [Elemental source] + Vitamin D3\n",
      "Predicted Purpose strength: 600 mg+400 IU\n"
     ]
    }
   ],
   "source": [
    "if flagForText == 1:\n",
    "    import pandas as pd\n",
    "    from sklearn.model_selection import train_test_split\n",
    "    from sklearn.preprocessing import LabelEncoder\n",
    "    from sklearn.feature_extraction.text import TfidfVectorizer\n",
    "    from sklearn.ensemble import RandomForestClassifier\n",
    "    import scipy.sparse\n",
    "    from sklearn.multioutput import ClassifierChain\n",
    "    from sklearn.naive_bayes import MultinomialNB\n",
    "    import pyttsx3\n",
    "    \n",
    "    dataset_path = dataset_csv\n",
    "    data = pd.read_csv(dataset_path)\n",
    "    data = data.dropna()\n",
    "    \n",
    "    X= data['brand name']  # Input feature: Medicine Name\n",
    "    y = data[['type', 'slug', 'dosage form', 'generic', 'strength']]  # Target variables: Purpose columns\n",
    "    X_train, X_test, y_train, y_test = train_test_split(X, y, test_size=0.2, random_state=42)\n",
    "    \n",
    "    vectorizer = TfidfVectorizer()\n",
    "    X_train_vectorized = vectorizer.fit_transform(X_train)\n",
    "    X_test_vectorized = vectorizer.transform(X_test)\n",
    "    \n",
    "    # Convert the vectorized data to a sparse matrix\n",
    "    X_train_vectorized = scipy.sparse.csr_matrix(X_train_vectorized)\n",
    "    X_test_vectorized = scipy.sparse.csr_matrix(X_test_vectorized)\n",
    "    \n",
    "    # Train the Random Forest model with optimized memory usage\n",
    "    model = RandomForestClassifier(n_estimators=100, max_depth=10)\n",
    "    model.fit(X_train_vectorized, y_train)\n",
    "    \n",
    "    medicine_name = text_after_word\n",
    "    medicine_name_vectorized = vectorizer.transform([medicine_name])\n",
    "    medicine_name_vectorized = scipy.sparse.csr_matrix(medicine_name_vectorized)\n",
    "    predicted_purposes = model.predict(medicine_name_vectorized)\n",
    "    \n",
    "    engine = pyttsx3.init()\n",
    "    engine.setProperty('rate', 150)\n",
    "    \n",
    "    # Output the predictions\n",
    "    for column, purpose in zip(y.columns, predicted_purposes[0]):\n",
    "            text =f'the {column} is {purpose}' \n",
    "            # Use the engine to speak the text\n",
    "            engine.say(text)\n",
    "            engine.runAndWait()\n",
    "            print(f'Predicted Purpose {column}: {purpose}')\n",
    "else:\n",
    "    import tensorflow as tf\n",
    "    from tensorflow.keras.preprocessing.image import ImageDataGenerator\n",
    "    from tensorflow.keras.models import Sequential\n",
    "    from tensorflow.keras.layers import Conv2D, MaxPooling2D, Flatten, Dense\n",
    "    from tensorflow.keras.optimizers import Adam\n",
    "    import pyttsx3\n",
    "    \n",
    "    # Set up the data generator\n",
    "    datagen = ImageDataGenerator(rescale=1.0/255.0)\n",
    "    \n",
    "    # Load and preprocess the training images\n",
    "    train_generator = datagen.flow_from_directory(\n",
    "        dataset_image,\n",
    "        target_size=(150, 150),\n",
    "        batch_size=32,\n",
    "        class_mode='categorical'\n",
    "    )\n",
    "    \n",
    "    # Define the model architecture\n",
    "    model = Sequential([\n",
    "        Conv2D(32, (3, 3), activation='relu', input_shape=(150, 150, 3)),\n",
    "        MaxPooling2D((2, 2)),\n",
    "        Conv2D(64, (3, 3), activation='relu'),\n",
    "        MaxPooling2D((2, 2)),\n",
    "        Conv2D(128, (3, 3), activation='relu'),\n",
    "        MaxPooling2D((2, 2)),\n",
    "        Flatten(),\n",
    "        Dense(128, activation='relu'),\n",
    "        Dense(train_generator.num_classes, activation='softmax')\n",
    "    ])\n",
    "    \n",
    "    # Compile the model\n",
    "    model.compile(optimizer=Adam(),\n",
    "                  loss='categorical_crossentropy',\n",
    "                  metrics=['accuracy'])\n",
    "    \n",
    "    #if model is already created then uncomment this block\n",
    "    #model = tf.keras.models.load_model('image_classification_model.h5') \n",
    "    \n",
    "    # Train the model\n",
    "    model.fit(train_generator, epochs=10)\n",
    "\n",
    "    # Save the model ((( to create new model uncomment this line)))\n",
    "    model.save('image_classification_model.h5')\n",
    "    \n",
    "    # Predict the details of new images\n",
    "    image_path = input_string\n",
    "    image = tf.keras.preprocessing.image.load_img(image_path, target_size=(150, 150))\n",
    "    image = tf.keras.preprocessing.image.img_to_array(image)\n",
    "    image = image / 255.0\n",
    "    image = tf.expand_dims(image, 0)\n",
    "    \n",
    "    engine = pyttsx3.init()\n",
    "    engine.setProperty('rate', 150)\n",
    "    \n",
    "    predictions = model.predict(image)\n",
    "    class_index = tf.argmax(predictions[0])\n",
    "    class_label = train_generator.class_indices\n",
    "    for key, value in class_label.items():\n",
    "        if value == class_index:\n",
    "            text =f'Image details is, {key}'; \n",
    "            # Use the engine to speak the text\n",
    "            engine.say(text)\n",
    "            engine.runAndWait()\n",
    "            print(\"Image details:\", key)\n",
    "            break"
   ]
  },
  {
   "cell_type": "code",
   "execution_count": null,
   "id": "74b35543",
   "metadata": {},
   "outputs": [],
   "source": []
  }
 ],
 "metadata": {
  "kernelspec": {
   "display_name": "Python 3 (ipykernel)",
   "language": "python",
   "name": "python3"
  },
  "language_info": {
   "codemirror_mode": {
    "name": "ipython",
    "version": 3
   },
   "file_extension": ".py",
   "mimetype": "text/x-python",
   "name": "python",
   "nbconvert_exporter": "python",
   "pygments_lexer": "ipython3",
   "version": "3.9.5"
  }
 },
 "nbformat": 4,
 "nbformat_minor": 5
}
