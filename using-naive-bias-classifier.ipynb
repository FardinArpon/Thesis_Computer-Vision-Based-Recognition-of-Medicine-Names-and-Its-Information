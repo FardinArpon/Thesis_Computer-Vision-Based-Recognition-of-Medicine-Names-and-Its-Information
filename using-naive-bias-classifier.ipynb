{
 "cells": [
  {
   "cell_type": "code",
   "execution_count": 1,
   "id": "f19a09b4",
   "metadata": {},
   "outputs": [],
   "source": [
    "import pandas as pd\n",
    "from sklearn.model_selection import train_test_split\n",
    "from sklearn.preprocessing import LabelEncoder\n",
    "from tensorflow.keras.models import Sequential\n",
    "from tensorflow.keras.layers import Embedding, Conv1D, GlobalMaxPooling1D, Dense\n",
    "from tensorflow.keras.preprocessing.text import Tokenizer\n",
    "from tensorflow.keras.preprocessing.sequence import pad_sequences\n",
    "from PIL import Image\n",
    "import pytesseract\n",
    "from googletrans import Translator\n",
    "from langdetect import detect\n",
    "import re"
   ]
  },
  {
   "cell_type": "code",
   "execution_count": 2,
   "id": "e88c10b7",
   "metadata": {},
   "outputs": [],
   "source": [
    "def remove_special_characters(text):\n",
    "    # Define the pattern for special characters\n",
    "    pattern = r'[^a-zA-Z0-9\\s]'\n",
    "    \n",
    "    # Remove special characters using regex\n",
    "    text = re.sub(pattern, '', text)\n",
    "    \n",
    "    return text"
   ]
  },
  {
   "cell_type": "code",
   "execution_count": 3,
   "id": "a6a2bc15",
   "metadata": {},
   "outputs": [],
   "source": [
    "def get_first_word(text):\n",
    "    # Split the text into words\n",
    "    words = text.split()\n",
    "    \n",
    "    # Retrieve the first word\n",
    "    if len(words) > 0:\n",
    "        first_word = words[0]\n",
    "        return first_word\n",
    "    \n",
    "    # Return None if the text is empty or contains no words\n",
    "    return None"
   ]
  },
  {
   "cell_type": "code",
   "execution_count": 4,
   "id": "d61eaaa9",
   "metadata": {},
   "outputs": [],
   "source": [
    "input_string= 'C:/Users/user/Desktop/jupyter notebook/napa_pac.png'\n",
    "dataset_csv = 'C:/Users/user/Desktop/jupyter notebook/medicine.csv'\n",
    "dataset_image = 'C:/Users/user/Desktop/jupyter notebook/image_dataset'"
   ]
  },
  {
   "cell_type": "code",
   "execution_count": 5,
   "id": "4055bac1",
   "metadata": {},
   "outputs": [],
   "source": [
    "image = Image.open(input_string)"
   ]
  },
  {
   "cell_type": "code",
   "execution_count": 6,
   "id": "f95e0d9f",
   "metadata": {},
   "outputs": [
    {
     "name": "stdout",
     "output_type": "stream",
     "text": [
      "Napa\n",
      "Napa\n"
     ]
    }
   ],
   "source": [
    "textOfImage = pytesseract.image_to_string(image, lang='eng') # for all latin languages\n",
    "# textOfImage = pytesseract.image_to_string(image, lang='chi_sim') #for non-latin chinease languages \n",
    "clean_text = remove_special_characters(textOfImage)\n",
    "print(get_first_word(clean_text))\n",
    "text_after_word= get_first_word(clean_text)\n",
    "# english_string = convert_to_english(textOfImage)\n",
    "print(text_after_word)"
   ]
  },
  {
   "cell_type": "code",
   "execution_count": 24,
   "id": "5f09bab8",
   "metadata": {},
   "outputs": [
    {
     "name": "stdout",
     "output_type": "stream",
     "text": [
      "Accuracy:  0.04\n"
     ]
    }
   ],
   "source": [
    "dataset_path = dataset_csv  # Replace with the actual path to your dataset\n",
    "data = pd.read_csv(dataset_path)\n",
    "\n",
    "# Drop rows with missing values\n",
    "data = data.dropna()\n",
    "\n",
    "# Separate X and y\n",
    "X = data.drop(columns=['brand name'])  # Features\n",
    "y = data['brand name']  # Target variable\n",
    "\n",
    "# Convert categorical features using one-hot encoding\n",
    "X_encoded = pd.get_dummies(X, columns=['type', 'slug', 'dosage form', 'generic', 'strength'])\n",
    "\n",
    "# Split the dataset into training and testing sets\n",
    "X_train, X_test, y_train, y_test = train_test_split(X_encoded, y, test_size=0.2, random_state=42)\n",
    "\n",
    "# Initialize the CountVectorizer for text data\n",
    "vectorizer = CountVectorizer()\n",
    "\n",
    "# Transform text data into numerical features\n",
    "X_train_text = vectorizer.fit_transform(y_train)\n",
    "X_test_text = vectorizer.transform(y_test)\n",
    "\n",
    "# Initialize the Multinomial Naive Bayes Classifier\n",
    "nb_classifier = MultinomialNB()\n",
    "\n",
    "# Train the classifier on the training data\n",
    "nb_classifier.fit(X_train_text, y_train)\n",
    "\n",
    "# Predict the brand names on the testing data\n",
    "y_pred = nb_classifier.predict(X_test_text)\n",
    "\n",
    "accuracy = accuracy_score(y_test, y_pred)\n",
    "formatted_accuracy = \"{:.2f}\".format(accuracy)\n",
    "# Calculate accuracy\n",
    "# accuracy = accuracy_score(y_test, y_pred)\n",
    "print(\"Accuracy: \", formatted_accuracy)"
   ]
  },
  {
   "cell_type": "code",
   "execution_count": null,
   "id": "7c959dbd",
   "metadata": {},
   "outputs": [],
   "source": []
  },
  {
   "cell_type": "code",
   "execution_count": null,
   "id": "ad5e8640",
   "metadata": {},
   "outputs": [],
   "source": []
  },
  {
   "cell_type": "code",
   "execution_count": null,
   "id": "1801b821",
   "metadata": {},
   "outputs": [],
   "source": []
  },
  {
   "cell_type": "code",
   "execution_count": null,
   "id": "b6d29a61",
   "metadata": {},
   "outputs": [],
   "source": []
  },
  {
   "cell_type": "code",
   "execution_count": null,
   "id": "db07f91d",
   "metadata": {},
   "outputs": [],
   "source": []
  },
  {
   "cell_type": "code",
   "execution_count": null,
   "id": "db8865b7",
   "metadata": {},
   "outputs": [],
   "source": []
  },
  {
   "cell_type": "code",
   "execution_count": null,
   "id": "4e3bd9bb",
   "metadata": {},
   "outputs": [],
   "source": []
  },
  {
   "cell_type": "code",
   "execution_count": null,
   "id": "a38273c0",
   "metadata": {},
   "outputs": [],
   "source": []
  },
  {
   "cell_type": "code",
   "execution_count": null,
   "id": "f214a1fe",
   "metadata": {},
   "outputs": [],
   "source": []
  },
  {
   "cell_type": "code",
   "execution_count": null,
   "id": "4e4d1ef5",
   "metadata": {},
   "outputs": [],
   "source": []
  },
  {
   "cell_type": "code",
   "execution_count": null,
   "id": "9850fb38",
   "metadata": {},
   "outputs": [],
   "source": []
  },
  {
   "cell_type": "code",
   "execution_count": null,
   "id": "f2f71430",
   "metadata": {},
   "outputs": [],
   "source": []
  },
  {
   "cell_type": "code",
   "execution_count": null,
   "id": "25235487",
   "metadata": {},
   "outputs": [],
   "source": []
  },
  {
   "cell_type": "code",
   "execution_count": null,
   "id": "a0498aad",
   "metadata": {},
   "outputs": [],
   "source": []
  },
  {
   "cell_type": "code",
   "execution_count": null,
   "id": "bc1d1f0a",
   "metadata": {},
   "outputs": [],
   "source": []
  },
  {
   "cell_type": "code",
   "execution_count": null,
   "id": "fa56be80",
   "metadata": {},
   "outputs": [],
   "source": []
  }
 ],
 "metadata": {
  "kernelspec": {
   "display_name": "Python 3 (ipykernel)",
   "language": "python",
   "name": "python3"
  },
  "language_info": {
   "codemirror_mode": {
    "name": "ipython",
    "version": 3
   },
   "file_extension": ".py",
   "mimetype": "text/x-python",
   "name": "python",
   "nbconvert_exporter": "python",
   "pygments_lexer": "ipython3",
   "version": "3.11.4"
  }
 },
 "nbformat": 4,
 "nbformat_minor": 5
}
