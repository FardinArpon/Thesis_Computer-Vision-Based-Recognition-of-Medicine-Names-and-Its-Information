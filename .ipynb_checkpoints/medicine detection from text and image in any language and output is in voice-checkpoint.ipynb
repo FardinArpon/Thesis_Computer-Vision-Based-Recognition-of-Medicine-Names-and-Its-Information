{
 "cells": [
  {
   "cell_type": "code",
   "execution_count": 28,
   "id": "61e08db3",
   "metadata": {},
   "outputs": [],
   "source": [
    "from PIL import Image\n",
    "import pytesseract\n",
    "from googletrans import Translator\n",
    "from langdetect import detect"
   ]
  },
  {
   "cell_type": "code",
   "execution_count": 19,
   "id": "226a6915",
   "metadata": {},
   "outputs": [],
   "source": [
    "def convert_to_english(text):\n",
    "    translator = Translator()\n",
    "    translation = translator.translate(text, dest='en')\n",
    "    return translation.text"
   ]
  },
  {
   "cell_type": "code",
   "execution_count": 37,
   "id": "a385474c",
   "metadata": {},
   "outputs": [],
   "source": [
    "input_string= 'C:/Users/user/Desktop/jupyter notebook/napa_spane.png'\n",
    "dataset_csv = 'C:/Users/user/Desktop/jupyter notebook/medicine.csv'\n",
    "dataset_image = 'C:/Users/user/Desktop/jupyter notebook/image_dataset'"
   ]
  },
  {
   "cell_type": "code",
   "execution_count": 38,
   "id": "877922ac",
   "metadata": {},
   "outputs": [],
   "source": [
    "image = Image.open(input_string)"
   ]
  },
  {
   "cell_type": "code",
   "execution_count": 39,
   "id": "2e5b8c65",
   "metadata": {},
   "outputs": [],
   "source": [
    "textOfImage = pytesseract.image_to_string(image, lang='eng') # for all latin languages\n",
    "# textOfImage = pytesseract.image_to_string(image, lang='chi_sim') #for non-latin chinease languages "
   ]
  },
  {
   "cell_type": "code",
   "execution_count": 43,
   "id": "9245a202",
   "metadata": {},
   "outputs": [
    {
     "name": "stdout",
     "output_type": "stream",
     "text": [
      "nombre del medicamento: napa\n",
      "\n",
      "Drug name: napa\n"
     ]
    }
   ],
   "source": [
    "print(textOfImage)\n",
    "english_string = convert_to_english(textOfImage)\n",
    "print(english_string)"
   ]
  },
  {
   "cell_type": "code",
   "execution_count": 46,
   "id": "c5f0de1f",
   "metadata": {},
   "outputs": [
    {
     "name": "stdout",
     "output_type": "stream",
     "text": [
      "drug name: napa\n",
      "Text after the word: napa\n"
     ]
    }
   ],
   "source": [
    "flagForText = 0\n",
    "target_word = 'name: '\n",
    "textOfImage = english_string.lower()\n",
    "if target_word in textOfImage:\n",
    "    # Find the index of the target word\n",
    "    index = textOfImage.index(target_word)\n",
    "    flagForText = 1;\n",
    "    # Print everything after the target word\n",
    "    text_after_word = textOfImage[index + len(target_word):]\n",
    "    print(\"Text after the word:\", text_after_word)\n",
    "else:\n",
    "    print(\"Word not found.\")"
   ]
  },
  {
   "cell_type": "code",
   "execution_count": 37,
   "id": "4f592350",
   "metadata": {},
   "outputs": [
    {
     "name": "stdout",
     "output_type": "stream",
     "text": [
      "5-Fluril\n",
      "\n"
     ]
    }
   ],
   "source": [
    "print(text_after_word)"
   ]
  },
  {
   "cell_type": "code",
   "execution_count": null,
   "id": "d6e5cbcf",
   "metadata": {},
   "outputs": [],
   "source": []
  },
  {
   "cell_type": "code",
   "execution_count": 58,
   "id": "6bbdafda",
   "metadata": {},
   "outputs": [
    {
     "name": "stdout",
     "output_type": "stream",
     "text": [
      "A-Cal DX\n",
      "\n",
      "[['allopathic' 'blisscapsule140-mg' 'Tablet' 'Esomeprazole' '500 mg']]\n",
      "Predicted Purpose type: allopathic\n",
      "Predicted Purpose slug: blisscapsule140-mg\n",
      "Predicted Purpose dosage form: Tablet\n",
      "Predicted Purpose generic: Esomeprazole\n",
      "Predicted Purpose strength: 500 mg\n"
     ]
    }
   ],
   "source": [
    "if flagForText == 1:\n",
    "    import pandas as pd\n",
    "    from sklearn.model_selection import train_test_split\n",
    "    from sklearn.preprocessing import LabelEncoder\n",
    "    from sklearn.feature_extraction.text import TfidfVectorizer\n",
    "    from sklearn.ensemble import RandomForestClassifier\n",
    "    import scipy.sparse\n",
    "    from sklearn.multioutput import ClassifierChain\n",
    "    from sklearn.naive_bayes import MultinomialNB\n",
    "    import pyttsx3\n",
    "    \n",
    "    dataset_path = dataset_csv\n",
    "    data = pd.read_csv(dataset_path)\n",
    "    data = data.dropna()\n",
    "    \n",
    "    X= data['brand name']  # Input feature: Medicine Name\n",
    "    y = data[['type', 'slug', 'dosage form', 'generic', 'strength']]  # Target variables: Purpose columns\n",
    "    X_train, X_test, y_train, y_test = train_test_split(X, y, test_size=0.2, random_state=42)\n",
    "    \n",
    "    vectorizer = TfidfVectorizer()\n",
    "    X_train_vectorized = vectorizer.fit_transform(X_train.apply(lambda x: ' '.join(x), axis=1))\n",
    "    X_test_vectorized = vectorizer.transform(X_test)\n",
    "    \n",
    "    # Convert the vectorized data to a sparse matrix\n",
    "    X_train_vectorized = scipy.sparse.csr_matrix(X_train_vectorized)\n",
    "    X_test_vectorized = scipy.sparse.csr_matrix(X_test_vectorized)\n",
    "    \n",
    "    # Train the Random Forest model with optimized memory usage\n",
    "    model = RandomForestClassifier(n_estimators=100, max_depth=10)\n",
    "    model.fit(X_train_vectorized, y_train)\n",
    "    \n",
    "    print(text_after_word)\n",
    "    medicine_name = text_after_word\n",
    "    medicine_name_vectorized = vectorizer.transform([medicine_name])\n",
    "    medicine_name_vectorized = scipy.sparse.csr_matrix(medicine_name_vectorized)\n",
    "    predicted_purposes = model.predict(medicine_name_vectorized)\n",
    "    \n",
    "    print(predicted_purposes);\n",
    "    \n",
    "    engine = pyttsx3.init()\n",
    "    engine.setProperty('rate', 150)\n",
    "    \n",
    "    # Output the predictions\n",
    "    for column, purpose in zip(y.columns, predicted_purposes[0]):\n",
    "            text =f'the {column} is {purpose}' \n",
    "            # Use the engine to speak the text\n",
    "            engine.say(text)\n",
    "            engine.runAndWait()\n",
    "            print(f'Predicted Purpose {column}: {purpose}')\n",
    "else:\n",
    "    import tensorflow as tf\n",
    "    from tensorflow.keras.preprocessing.image import ImageDataGenerator\n",
    "    from tensorflow.keras.models import Sequential\n",
    "    from tensorflow.keras.layers import Conv2D, MaxPooling2D, Flatten, Dense\n",
    "    from tensorflow.keras.optimizers import Adam\n",
    "    import pyttsx3\n",
    "    \n",
    "    # Set up the data generator\n",
    "    datagen = ImageDataGenerator(rescale=1.0/255.0)\n",
    "    \n",
    "    # Load and preprocess the training images\n",
    "    train_generator = datagen.flow_from_directory(\n",
    "        dataset_image,\n",
    "        target_size=(150, 150),\n",
    "        batch_size=32,\n",
    "        class_mode='categorical'\n",
    "    )\n",
    "    \n",
    "    # Define the model architecture\n",
    "    model = Sequential([\n",
    "        Conv2D(32, (3, 3), activation='relu', input_shape=(150, 150, 3)),\n",
    "        MaxPooling2D((2, 2)),\n",
    "        Conv2D(64, (3, 3), activation='relu'),\n",
    "        MaxPooling2D((2, 2)),\n",
    "        Conv2D(128, (3, 3), activation='relu'),\n",
    "        MaxPooling2D((2, 2)),\n",
    "        Flatten(),\n",
    "        Dense(128, activation='relu'),\n",
    "        Dense(train_generator.num_classes, activation='softmax')\n",
    "    ])\n",
    "    \n",
    "    # Compile the model\n",
    "    model.compile(optimizer=Adam(),\n",
    "                  loss='categorical_crossentropy',\n",
    "                  metrics=['accuracy'])\n",
    "    \n",
    "    #if model is already created then uncomment this block\n",
    "    #model = tf.keras.models.load_model('image_classification_model.h5') \n",
    "    \n",
    "    # Train the model\n",
    "    model.fit(train_generator, epochs=10)\n",
    "\n",
    "    # Save the model ((( to create new model uncomment this line)))\n",
    "    model.save('image_classification_model.h5')\n",
    "    \n",
    "    # Predict the details of new images\n",
    "    image_path = input_string\n",
    "    image = tf.keras.preprocessing.image.load_img(image_path, target_size=(150, 150))\n",
    "    image = tf.keras.preprocessing.image.img_to_array(image)\n",
    "    image = image / 255.0\n",
    "    image = tf.expand_dims(image, 0)\n",
    "    \n",
    "    engine = pyttsx3.init()\n",
    "    engine.setProperty('rate', 150)\n",
    "    \n",
    "    predictions = model.predict(image)\n",
    "    class_index = tf.argmax(predictions[0])\n",
    "    class_label = train_generator.class_indices\n",
    "    for key, value in class_label.items():\n",
    "        if value == class_index:\n",
    "            text =f'Image details is, {key}'; \n",
    "            # Use the engine to speak the text\n",
    "            engine.say(text)\n",
    "            engine.runAndWait()\n",
    "            print(\"Image details:\", key)\n",
    "            break"
   ]
  },
  {
   "cell_type": "code",
   "execution_count": null,
   "id": "74b35543",
   "metadata": {},
   "outputs": [],
   "source": []
  }
 ],
 "metadata": {
  "kernelspec": {
   "display_name": "Python 3 (ipykernel)",
   "language": "python",
   "name": "python3"
  },
  "language_info": {
   "codemirror_mode": {
    "name": "ipython",
    "version": 3
   },
   "file_extension": ".py",
   "mimetype": "text/x-python",
   "name": "python",
   "nbconvert_exporter": "python",
   "pygments_lexer": "ipython3",
   "version": "3.9.5"
  }
 },
 "nbformat": 4,
 "nbformat_minor": 5
}
