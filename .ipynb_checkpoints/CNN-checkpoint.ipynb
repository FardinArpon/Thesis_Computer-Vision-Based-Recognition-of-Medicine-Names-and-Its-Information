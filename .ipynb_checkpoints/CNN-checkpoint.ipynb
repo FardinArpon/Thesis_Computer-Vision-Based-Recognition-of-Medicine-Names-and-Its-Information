{
 "cells": [
  {
   "cell_type": "code",
   "execution_count": 1,
   "id": "50e659b6",
   "metadata": {},
   "outputs": [
    {
     "ename": "ModuleNotFoundError",
     "evalue": "No module named 'pandas'",
     "output_type": "error",
     "traceback": [
      "\u001b[1;31m---------------------------------------------------------------------------\u001b[0m",
      "\u001b[1;31mModuleNotFoundError\u001b[0m                       Traceback (most recent call last)",
      "Cell \u001b[1;32mIn[1], line 1\u001b[0m\n\u001b[1;32m----> 1\u001b[0m \u001b[38;5;28;01mimport\u001b[39;00m \u001b[38;5;21;01mpandas\u001b[39;00m \u001b[38;5;28;01mas\u001b[39;00m \u001b[38;5;21;01mpd\u001b[39;00m\n\u001b[0;32m      2\u001b[0m \u001b[38;5;28;01mfrom\u001b[39;00m \u001b[38;5;21;01msklearn\u001b[39;00m\u001b[38;5;21;01m.\u001b[39;00m\u001b[38;5;21;01mmodel_selection\u001b[39;00m \u001b[38;5;28;01mimport\u001b[39;00m train_test_split\n\u001b[0;32m      3\u001b[0m \u001b[38;5;28;01mfrom\u001b[39;00m \u001b[38;5;21;01msklearn\u001b[39;00m\u001b[38;5;21;01m.\u001b[39;00m\u001b[38;5;21;01mpreprocessing\u001b[39;00m \u001b[38;5;28;01mimport\u001b[39;00m LabelEncoder\n",
      "\u001b[1;31mModuleNotFoundError\u001b[0m: No module named 'pandas'"
     ]
    }
   ],
   "source": [
    "import pandas as pd\n",
    "from sklearn.model_selection import train_test_split\n",
    "from sklearn.preprocessing import LabelEncoder\n",
    "from tensorflow.keras.models import Sequential\n",
    "from tensorflow.keras.layers import Embedding, Conv1D, GlobalMaxPooling1D, Dense\n",
    "from tensorflow.keras.preprocessing.text import Tokenizer\n",
    "from tensorflow.keras.preprocessing.sequence import pad_sequences\n",
    "from PIL import Image\n",
    "import pytesseract\n",
    "from googletrans import Translator\n",
    "from langdetect import detect\n",
    "import re"
   ]
  },
  {
   "cell_type": "code",
   "execution_count": 30,
   "id": "e07414f7",
   "metadata": {},
   "outputs": [],
   "source": [
    "def remove_special_characters(text):\n",
    "    # Define the pattern for special characters\n",
    "    pattern = r'[^a-zA-Z0-9\\s]'\n",
    "    \n",
    "    # Remove special characters using regex\n",
    "    text = re.sub(pattern, '', text)\n",
    "    \n",
    "    return text"
   ]
  },
  {
   "cell_type": "code",
   "execution_count": 31,
   "id": "564478f5",
   "metadata": {},
   "outputs": [],
   "source": [
    "def get_first_word(text):\n",
    "    # Split the text into words\n",
    "    words = text.split()\n",
    "    \n",
    "    # Retrieve the first word\n",
    "    if len(words) > 0:\n",
    "        first_word = words[0]\n",
    "        return first_word\n",
    "    \n",
    "    # Return None if the text is empty or contains no words\n",
    "    return None"
   ]
  },
  {
   "cell_type": "code",
   "execution_count": 21,
   "id": "6f9ee20f",
   "metadata": {},
   "outputs": [],
   "source": [
    "input_string= 'C:/Users/user/Desktop/jupyter notebook/napa_pac.png'\n",
    "dataset_csv = 'C:/Users/user/Desktop/jupyter notebook/medicine.csv'\n",
    "dataset_image = 'C:/Users/user/Desktop/jupyter notebook/image_dataset'"
   ]
  },
  {
   "cell_type": "code",
   "execution_count": 22,
   "id": "db7d6e91",
   "metadata": {},
   "outputs": [],
   "source": [
    "image = Image.open(input_string)"
   ]
  },
  {
   "cell_type": "code",
   "execution_count": 33,
   "id": "037ef783",
   "metadata": {},
   "outputs": [
    {
     "name": "stdout",
     "output_type": "stream",
     "text": [
      "Napa\n",
      "Napa\n"
     ]
    }
   ],
   "source": [
    "textOfImage = pytesseract.image_to_string(image, lang='eng') # for all latin languages\n",
    "# textOfImage = pytesseract.image_to_string(image, lang='chi_sim') #for non-latin chinease languages \n",
    "clean_text = remove_special_characters(textOfImage)\n",
    "print(get_first_word(clean_text))\n",
    "text_after_word= get_first_word(clean_text)\n",
    "# english_string = convert_to_english(textOfImage)\n",
    "print(text_after_word)"
   ]
  },
  {
   "cell_type": "code",
   "execution_count": null,
   "id": "d6e5f3eb",
   "metadata": {},
   "outputs": [],
   "source": []
  },
  {
   "cell_type": "code",
   "execution_count": 51,
   "id": "eaaccbcc",
   "metadata": {},
   "outputs": [
    {
     "name": "stdout",
     "output_type": "stream",
     "text": [
      "Epoch 1/5\n",
      "337/337 [==============================] - 5s 13ms/step - loss: 0.1031 - accuracy: 0.9811 - val_loss: 0.0915 - val_accuracy: 0.9800\n",
      "Epoch 2/5\n",
      "337/337 [==============================] - 4s 12ms/step - loss: 0.0234 - accuracy: 0.9935 - val_loss: 1.0813 - val_accuracy: 0.6621\n",
      "Epoch 3/5\n",
      "337/337 [==============================] - 4s 12ms/step - loss: 0.0039 - accuracy: 0.9993 - val_loss: 1.4120 - val_accuracy: 0.6614\n",
      "Epoch 4/5\n",
      "337/337 [==============================] - 4s 12ms/step - loss: 0.0014 - accuracy: 0.9996 - val_loss: 1.3636 - val_accuracy: 0.6621\n",
      "Epoch 5/5\n",
      "337/337 [==============================] - 4s 12ms/step - loss: 8.7272e-04 - accuracy: 0.9998 - val_loss: 1.4755 - val_accuracy: 0.6621\n",
      "Epoch 1/5\n",
      "337/337 [==============================] - 14s 37ms/step - loss: 9.5539 - accuracy: 0.0000e+00 - val_loss: 9.6448 - val_accuracy: 3.7092e-04\n",
      "Epoch 2/5\n",
      "337/337 [==============================] - 12s 36ms/step - loss: 9.4588 - accuracy: 0.0000e+00 - val_loss: 9.9029 - val_accuracy: 3.7092e-04\n",
      "Epoch 3/5\n",
      "337/337 [==============================] - 12s 36ms/step - loss: 9.1802 - accuracy: 2.7822e-04 - val_loss: 10.3328 - val_accuracy: 3.7092e-04\n",
      "Epoch 4/5\n",
      "337/337 [==============================] - 12s 36ms/step - loss: 8.6446 - accuracy: 0.0026 - val_loss: 11.3450 - val_accuracy: 0.0000e+00\n",
      "Epoch 5/5\n",
      "337/337 [==============================] - 12s 36ms/step - loss: 7.5565 - accuracy: 0.0164 - val_loss: 13.1060 - val_accuracy: 7.4184e-04\n",
      "Epoch 1/5\n",
      "337/337 [==============================] - 5s 13ms/step - loss: 1.6075 - accuracy: 0.6532 - val_loss: 1.2768 - val_accuracy: 0.6684\n",
      "Epoch 2/5\n",
      "337/337 [==============================] - 4s 12ms/step - loss: 0.9158 - accuracy: 0.7761 - val_loss: 1.1132 - val_accuracy: 0.7470\n",
      "Epoch 3/5\n",
      "337/337 [==============================] - 4s 12ms/step - loss: 0.5484 - accuracy: 0.8544 - val_loss: 1.1044 - val_accuracy: 0.7652\n",
      "Epoch 4/5\n",
      "337/337 [==============================] - 4s 12ms/step - loss: 0.3625 - accuracy: 0.8967 - val_loss: 1.3038 - val_accuracy: 0.5341\n",
      "Epoch 5/5\n",
      "337/337 [==============================] - 4s 12ms/step - loss: 0.2619 - accuracy: 0.9192 - val_loss: 1.4741 - val_accuracy: 0.5378\n",
      "Epoch 1/5\n",
      "337/337 [==============================] - 6s 14ms/step - loss: 5.9661 - accuracy: 0.0210 - val_loss: 5.5763 - val_accuracy: 0.0393\n",
      "Epoch 2/5\n",
      "337/337 [==============================] - 4s 12ms/step - loss: 5.0831 - accuracy: 0.0517 - val_loss: 5.1577 - val_accuracy: 0.0823\n",
      "Epoch 3/5\n",
      "337/337 [==============================] - 4s 13ms/step - loss: 4.0353 - accuracy: 0.1961 - val_loss: 4.4943 - val_accuracy: 0.2300\n",
      "Epoch 4/5\n",
      "337/337 [==============================] - 4s 12ms/step - loss: 2.7420 - accuracy: 0.4400 - val_loss: 4.2737 - val_accuracy: 0.3487\n",
      "Epoch 5/5\n",
      "337/337 [==============================] - 4s 13ms/step - loss: 1.8403 - accuracy: 0.6253 - val_loss: 4.3885 - val_accuracy: 0.4266\n",
      "Epoch 1/5\n",
      "337/337 [==============================] - 6s 13ms/step - loss: 4.4716 - accuracy: 0.0906 - val_loss: 4.1781 - val_accuracy: 0.0953\n",
      "Epoch 2/5\n",
      "337/337 [==============================] - 4s 12ms/step - loss: 3.8732 - accuracy: 0.1116 - val_loss: 4.0728 - val_accuracy: 0.1239\n",
      "Epoch 3/5\n",
      "337/337 [==============================] - 4s 12ms/step - loss: 3.2746 - accuracy: 0.2036 - val_loss: 4.1709 - val_accuracy: 0.1695\n",
      "Epoch 4/5\n",
      "337/337 [==============================] - 4s 13ms/step - loss: 2.4918 - accuracy: 0.3536 - val_loss: 4.6605 - val_accuracy: 0.1257\n",
      "Epoch 5/5\n",
      "337/337 [==============================] - 4s 12ms/step - loss: 1.9862 - accuracy: 0.4476 - val_loss: 5.2257 - val_accuracy: 0.1346\n",
      "1/1 [==============================] - 0s 176ms/step\n",
      "1/1 [==============================] - 0s 141ms/step\n",
      "1/1 [==============================] - 0s 110ms/step\n",
      "1/1 [==============================] - 0s 97ms/step\n",
      "1/1 [==============================] - 0s 94ms/step\n",
      "type: allopathic\n",
      "slug: urinom-dcapsule04-mg05-mg\n",
      "dosage form: Suppository\n",
      "generic: Paracetamol\n",
      "strength: 250 mg\n"
     ]
    }
   ],
   "source": [
    "import pandas as pd\n",
    "import numpy as np\n",
    "from sklearn.model_selection import train_test_split\n",
    "from sklearn.preprocessing import LabelEncoder\n",
    "from tensorflow.keras.preprocessing.text import Tokenizer\n",
    "from tensorflow.keras.preprocessing.sequence import pad_sequences\n",
    "from tensorflow.keras.models import Sequential\n",
    "from tensorflow.keras.layers import Embedding, Conv1D, GlobalMaxPooling1D, Dense\n",
    "import pyttsx3\n",
    "\n",
    "# Read the dataset\n",
    "dataset_path = dataset_csv\n",
    "data = pd.read_csv(dataset_path)\n",
    "\n",
    "# Drop rows with missing values\n",
    "data = data.dropna()\n",
    "\n",
    "# Separate X and y\n",
    "X = data['brand name']\n",
    "y = data[['type', 'slug', 'dosage form', 'generic', 'strength']]\n",
    "\n",
    "# Initialize label encoders and encode y\n",
    "label_encoders = {}\n",
    "y_encoded = {}\n",
    "\n",
    "for col in y.columns:\n",
    "    label_encoders[col] = LabelEncoder()\n",
    "    y_encoded[col] = label_encoders[col].fit_transform(y[col])\n",
    "\n",
    "# Convert y_encoded to a DataFrame and reset indices to align X and y\n",
    "y_encoded = pd.DataFrame(y_encoded)\n",
    "X = X.reset_index(drop=True)\n",
    "y_encoded = y_encoded.reset_index(drop=True)\n",
    "\n",
    "# Split the data into train and test sets\n",
    "X_train, X_test, y_train, y_test = train_test_split(X, y_encoded, test_size=0.2, random_state=42)\n",
    "\n",
    "# Tokenize and pad the text sequences\n",
    "tokenizer = Tokenizer()\n",
    "tokenizer.fit_on_texts(X_train)\n",
    "\n",
    "X_train_sequences = tokenizer.texts_to_sequences(X_train)\n",
    "X_test_sequences = tokenizer.texts_to_sequences(X_test)\n",
    "\n",
    "max_sequence_length = max(len(seq) for seq in X_train_sequences) + 1\n",
    "X_train_padded = pad_sequences(X_train_sequences, maxlen=max_sequence_length)\n",
    "X_test_padded = pad_sequences(X_test_sequences, maxlen=max_sequence_length)\n",
    "\n",
    "vocab_size = len(tokenizer.word_index) + 1\n",
    "embedding_dim = 100\n",
    "\n",
    "models = {}\n",
    "for col in y.columns:\n",
    "    model = Sequential()\n",
    "    model.add(Embedding(vocab_size, embedding_dim, input_length=max_sequence_length))\n",
    "    model.add(Conv1D(128, 3, activation='relu'))\n",
    "    model.add(GlobalMaxPooling1D())\n",
    "    model.add(Dense(128, activation='relu'))\n",
    "    model.add(Dense(label_encoders[col].classes_.shape[0], activation='softmax'))\n",
    "    model.compile(loss='sparse_categorical_crossentropy', optimizer='adam', metrics=['accuracy'])\n",
    "    model.fit(X_train_padded, y_train[col], validation_data=(X_test_padded, y_test[col]), epochs=10, batch_size=32)\n",
    "    models[col] = model\n",
    "\n",
    "medicine_name = text_after_word\n",
    "medicine_name_sequence = tokenizer.texts_to_sequences([medicine_name])\n",
    "medicine_name_padded = pad_sequences(medicine_name_sequence, maxlen=max_sequence_length)\n",
    "\n",
    "predicted_purposes_decoded = {}\n",
    "for col, model in models.items():\n",
    "    predicted_purposes = model.predict(medicine_name_padded)\n",
    "    predicted_purposes_decoded[col] = label_encoders[col].inverse_transform(predicted_purposes.argmax(axis=1))\n",
    "    \n",
    "engine = pyttsx3.init()\n",
    "engine.setProperty('rate', 150)\n",
    "\n",
    "for col, predicted_values in predicted_purposes_decoded.items():\n",
    "    text =f'the {col} is, {predicted_values[0]}'; \n",
    "    # Use the engine to speak the text\n",
    "    engine.say(text)\n",
    "    engine.runAndWait()\n",
    "    print(col + \": \" + predicted_values[0])\n"
   ]
  },
  {
   "cell_type": "code",
   "execution_count": null,
   "id": "27b6286e",
   "metadata": {},
   "outputs": [],
   "source": []
  }
 ],
 "metadata": {
  "kernelspec": {
   "display_name": "Python 3 (ipykernel)",
   "language": "python",
   "name": "python3"
  },
  "language_info": {
   "codemirror_mode": {
    "name": "ipython",
    "version": 3
   },
   "file_extension": ".py",
   "mimetype": "text/x-python",
   "name": "python",
   "nbconvert_exporter": "python",
   "pygments_lexer": "ipython3",
   "version": "3.9.5"
  }
 },
 "nbformat": 4,
 "nbformat_minor": 5
}
